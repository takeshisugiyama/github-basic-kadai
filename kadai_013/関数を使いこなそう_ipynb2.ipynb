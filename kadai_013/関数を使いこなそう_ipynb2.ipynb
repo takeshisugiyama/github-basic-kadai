{
  "nbformat": 4,
  "nbformat_minor": 0,
  "metadata": {
    "colab": {
      "provenance": []
    },
    "kernelspec": {
      "name": "python3",
      "display_name": "Python 3"
    },
    "language_info": {
      "name": "python"
    }
  },
  "cells": [
    {
      "cell_type": "code",
      "source": [
        "def calculate_total(price):\n",
        "  total = price\n",
        "  tax = 0.1\n",
        "  return price + price*tax\n",
        "\n",
        "calculate_total(2500)"
      ],
      "metadata": {
        "colab": {
          "base_uri": "https://localhost:8080/"
        },
        "id": "c6BwfiTE1SSK",
        "outputId": "c927f9fa-ff07-42e1-fa57-c606a5a220a5"
      },
      "execution_count": 1,
      "outputs": [
        {
          "output_type": "execute_result",
          "data": {
            "text/plain": [
              "2750.0"
            ]
          },
          "metadata": {},
          "execution_count": 1
        }
      ]
    }
  ]
}