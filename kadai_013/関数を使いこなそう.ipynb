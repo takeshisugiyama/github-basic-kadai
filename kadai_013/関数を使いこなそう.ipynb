{
  "nbformat": 4,
  "nbformat_minor": 0,
  "metadata": {
    "colab": {
      "provenance": []
    },
    "kernelspec": {
      "name": "python3",
      "display_name": "Python 3"
    },
    "language_info": {
      "name": "python"
    }
  },
  "cells": [
    {
      "cell_type": "code",
      "execution_count": 4,
      "metadata": {
        "colab": {
          "base_uri": "https://localhost:8080/"
        },
        "id": "yvb8j5egptez",
        "outputId": "75a59538-476a-4bc7-bb9e-c34a65618ce2"
      },
      "outputs": [
        {
          "output_type": "stream",
          "name": "stdout",
          "text": [
            "1320.0円\n"
          ]
        }
      ],
      "source": [
        "def calculate_total(price):\n",
        "  total = price*1.10\n",
        "  print(f\"{total}円\")\n",
        "\n",
        "calculate_total(1200)"
      ]
    }
  ]
}