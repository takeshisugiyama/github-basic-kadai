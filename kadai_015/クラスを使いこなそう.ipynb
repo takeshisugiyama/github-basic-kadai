{
  "nbformat": 4,
  "nbformat_minor": 0,
  "metadata": {
    "colab": {
      "provenance": []
    },
    "kernelspec": {
      "name": "python3",
      "display_name": "Python 3"
    },
    "language_info": {
      "name": "python"
    }
  },
  "cells": [
    {
      "cell_type": "code",
      "source": [
        "class Human:\n",
        "  def __init__(self, name=\"\", age=0):\n",
        "    self.name = name\n",
        "    self.age = age\n",
        "\n",
        "  def print_info(self):\n",
        "    print(f\"名前: {self.name}, 年齢:{self.age}\")\n",
        "\n",
        "Potato = Human(\"ポテトさん\", 35)\n",
        "\n",
        "Potato.print_info()\n",
        "\n",
        "\n"
      ],
      "metadata": {
        "colab": {
          "base_uri": "https://localhost:8080/"
        },
        "id": "3kS8Mpr9-Inw",
        "outputId": "aa08e5d3-c3b3-4992-b5f3-25a82261d01f"
      },
      "execution_count": 10,
      "outputs": [
        {
          "output_type": "stream",
          "name": "stdout",
          "text": [
            "名前: ポテトさん, 年齢:35\n"
          ]
        }
      ]
    }
  ]
}