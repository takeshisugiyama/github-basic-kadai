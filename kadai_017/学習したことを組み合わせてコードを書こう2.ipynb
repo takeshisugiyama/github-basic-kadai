{
  "nbformat": 4,
  "nbformat_minor": 0,
  "metadata": {
    "colab": {
      "provenance": []
    },
    "kernelspec": {
      "name": "python3",
      "display_name": "Python 3"
    },
    "language_info": {
      "name": "python"
    }
  },
  "cells": [
    {
      "cell_type": "code",
      "execution_count": 8,
      "metadata": {
        "colab": {
          "base_uri": "https://localhost:8080/"
        },
        "id": "dgmDM_ulzN1g",
        "outputId": "2ed27041-c3ea-40fd-b697-01d1a17e88eb"
      },
      "outputs": [
        {
          "output_type": "stream",
          "name": "stdout",
          "text": [
            "北海道太郎は大人です\n",
            "北海道ポテトは大人です\n",
            "秋田ナスは大人です\n",
            "岩手のりは大人です\n",
            "福井こめは大人です\n"
          ]
        }
      ],
      "source": [
        "class Human():\n",
        "  def __init__(self, name, age):\n",
        "    self.name = name\n",
        "    self.age = age\n",
        "\n",
        "  def check_adult(self):\n",
        "    if self.age >= 20:\n",
        "      print(f\"{self.name}は大人です\")\n",
        "    else:\n",
        "      print(f\"{self.name}は大人ではありません\")\n",
        "\n",
        "#Humanクラスのインスタンスを複数作成\n",
        "people =[\n",
        "    Human(\"北海道太郎\",25),\n",
        "    Human(\"北海道ポテト\",30),\n",
        "    Human(\"秋田ナス\",26),\n",
        "    Human(\"岩手のり\",45),\n",
        "    Human(\"福井こめ\",56),\n",
        "]\n",
        "\n",
        "#リストの要素数分だけcheckメソッドを呼び出す\n",
        "for person in people:\n",
        "  person.check_adult()\n"
      ]
    }
  ]
}